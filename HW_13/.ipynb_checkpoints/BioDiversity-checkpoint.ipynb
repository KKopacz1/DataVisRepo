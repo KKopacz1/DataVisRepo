{
 "cells": [
  {
   "cell_type": "code",
   "execution_count": null,
   "metadata": {
    "collapsed": true
   },
   "outputs": [],
   "source": [
    "import warnings\n",
    "warnings.filterwarnings('ignore')"
   ]
  },
  {
   "cell_type": "code",
   "execution_count": null,
   "metadata": {
    "collapsed": true
   },
   "outputs": [],
   "source": [
    "# Import Dependencies\n",
    "import sqlalchemy\n",
    "from sqlalchemy.ext.automap import automap_base\n",
    "from sqlalchemy.orm import Session\n",
    "from sqlalchemy import create_engine\n",
    "from sqlalchemy import func\n",
    "from sqlalchemy import inspect"
   ]
  },
  {
   "cell_type": "code",
   "execution_count": null,
   "metadata": {
    "collapsed": true
   },
   "outputs": [],
   "source": [
    "import pandas as pd\n",
    "import json\n",
    "import numpy as np"
   ]
  },
  {
   "cell_type": "code",
   "execution_count": null,
   "metadata": {
    "collapsed": true
   },
   "outputs": [],
   "source": [
    "##################################################\n",
    "# Flask Setup\n",
    "##################################################\n",
    "app = Flask(__name__)"
   ]
  },
  {
   "cell_type": "code",
   "execution_count": null,
   "metadata": {
    "collapsed": true
   },
   "outputs": [],
   "source": [
    "# Create an engine for the belly_button_biodiversity.sqlite database\n",
    "engine = create_engine(\"sqlite:///belly_button_biodiversity.sqlite\", echo=False)"
   ]
  },
  {
   "cell_type": "code",
   "execution_count": null,
   "metadata": {
    "collapsed": true
   },
   "outputs": [],
   "source": [
    "# Reflect Database into ORM classes\n",
    "Base = automap_base()\n",
    "Base.prepare(engine, reflect=True)\n",
    "Base.classes.keys()"
   ]
  },
  {
   "cell_type": "code",
   "execution_count": null,
   "metadata": {
    "collapsed": true
   },
   "outputs": [],
   "source": [
    "#Get References for each table\n",
    "Otu = Base.classes.otu\n",
    "Samples = Base.classes.samples\n",
    "Samples_metadata = Base.classes.samples_metadata"
   ]
  },
  {
   "cell_type": "code",
   "execution_count": null,
   "metadata": {
    "collapsed": true
   },
   "outputs": [],
   "source": [
    "inspector = inspect(engine)\n",
    "samplesall = inspector.get_columns('samples')\n",
    "session = Session(engine)"
   ]
  },
  {
   "cell_type": "code",
   "execution_count": null,
   "metadata": {
    "collapsed": true
   },
   "outputs": [],
   "source": [
    "# Converting using pandas\n",
    "samplesall_df = pd.DataFrame(samplesall)\n",
    "# samplenames = samplesall_df.loc[samplesall_df[\"name\"] != 'otu_id',]\n",
    "samplenamesdf = pd.DataFrame(samplesall_df['name'])\n",
    "samplenamesdf.set_index('name',inplace=True)\n",
    "# json.dumps(list(samplesall_df['name'][1:]))"
   ]
  },
  {
   "cell_type": "code",
   "execution_count": null,
   "metadata": {
    "collapsed": true
   },
   "outputs": [],
   "source": [
    "results = session.query(Otu.lowest_taxonomic_unit_found).all()\n",
    "# json.dumps(list(np.ravel(results)))"
   ]
  },
  {
   "cell_type": "code",
   "execution_count": null,
   "metadata": {
    "collapsed": true
   },
   "outputs": [],
   "source": [
    "sample = 'BB_940'\n",
    "sampleip = sample[3:]\n",
    "metadata = session.query(Samples_metadata).filter(Samples_metadata.SAMPLEID == sampleip).first()\n",
    "# print(metadata.AGE)\n",
    "metadata_dict={\"AGE\":metadata.AGE,\n",
    "            \"GENDER\": metadata.GENDER,\n",
    "            \"ETHNICITY\": metadata.ETHNICITY,\n",
    "            \"BBTYPE\": metadata.BBTYPE,\n",
    "            \"LOCATION\": metadata.LOCATION,\n",
    "            \"SAMPLEID\": metadata.SAMPLEID}\n",
    "# print(metadata_dict)\n",
    "# json.dumps(metadata_dict)"
   ]
  },
  {
   "cell_type": "code",
   "execution_count": null,
   "metadata": {
    "collapsed": true
   },
   "outputs": [],
   "source": [
    "sample = 'BB_940'\n",
    "sampleip = sample[3:]\n",
    "metadata = session.query(Samples_metadata).filter(Samples_metadata.SAMPLEID == sampleip).first()\n",
    "print(metadata.WFREQ)"
   ]
  },
  {
   "cell_type": "code",
   "execution_count": null,
   "metadata": {
    "collapsed": true
   },
   "outputs": [],
   "source": [
    "sample = 'BB_940'\n",
    "stmt = session.query(Samples).statement\n",
    "df = pd.read_sql_query(stmt, session.bind)\n",
    "df = df[df[sample] > 1]\n",
    "df = df.sort_values(by=sample, ascending=0)\n",
    "# Format the data to send as json\n",
    "data = [{\n",
    "        \"otu_ids\": df[sample].index.values.tolist(),\n",
    "        \"sample_values\": df[sample].values.tolist()\n",
    "    }]\n",
    "# json.dumps(data)"
   ]
  }
 ],
 "metadata": {
  "kernelspec": {
   "display_name": "Python 3",
   "language": "python",
   "name": "python3"
  },
  "language_info": {
   "codemirror_mode": {
    "name": "ipython",
    "version": 3
   },
   "file_extension": ".py",
   "mimetype": "text/x-python",
   "name": "python",
   "nbconvert_exporter": "python",
   "pygments_lexer": "ipython3",
   "version": "3.6.3"
  }
 },
 "nbformat": 4,
 "nbformat_minor": 2
}
